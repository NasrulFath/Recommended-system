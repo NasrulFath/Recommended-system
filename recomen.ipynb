{
 "cells": [
  {
   "cell_type": "code",
   "execution_count": 1,
   "metadata": {},
   "outputs": [
    {
     "name": "stderr",
     "output_type": "stream",
     "text": [
      "c:\\Users\\ASUS\\miniconda3\\Lib\\site-packages\\tqdm\\auto.py:21: TqdmWarning: IProgress not found. Please update jupyter and ipywidgets. See https://ipywidgets.readthedocs.io/en/stable/user_install.html\n",
      "  from .autonotebook import tqdm as notebook_tqdm\n"
     ]
    },
    {
     "name": "stdout",
     "output_type": "stream",
     "text": [
      "WARNING:tensorflow:From c:\\Users\\ASUS\\miniconda3\\Lib\\site-packages\\tf_keras\\src\\losses.py:2976: The name tf.losses.sparse_softmax_cross_entropy is deprecated. Please use tf.compat.v1.losses.sparse_softmax_cross_entropy instead.\n",
      "\n"
     ]
    }
   ],
   "source": [
    "import pandas as pd\n",
    "import numpy as np\n",
    "from sklearn.feature_extraction.text import CountVectorizer\n",
    "from sklearn.feature_extraction.text import TfidfVectorizer\n",
    "from sentence_transformers import SentenceTransformer\n",
    "from sklearn.metrics.pairwise import cosine_similarity\n",
    "import warnings\n",
    "warnings.filterwarnings('ignore')\n",
    "\n",
    "pd.set_option('display.max_columns', None)"
   ]
  },
  {
   "cell_type": "code",
   "execution_count": 2,
   "metadata": {},
   "outputs": [
    {
     "name": "stdout",
     "output_type": "stream",
     "text": [
      "Path to dataset files: C:\\Users\\ASUS\\.cache\\kagglehub\\datasets\\CooperUnion\\anime-recommendations-database\\versions\\1\n"
     ]
    },
    {
     "data": {
      "text/html": [
       "<div>\n",
       "<style scoped>\n",
       "    .dataframe tbody tr th:only-of-type {\n",
       "        vertical-align: middle;\n",
       "    }\n",
       "\n",
       "    .dataframe tbody tr th {\n",
       "        vertical-align: top;\n",
       "    }\n",
       "\n",
       "    .dataframe thead th {\n",
       "        text-align: right;\n",
       "    }\n",
       "</style>\n",
       "<table border=\"1\" class=\"dataframe\">\n",
       "  <thead>\n",
       "    <tr style=\"text-align: right;\">\n",
       "      <th></th>\n",
       "      <th>anime_id</th>\n",
       "      <th>name</th>\n",
       "      <th>genre</th>\n",
       "      <th>type</th>\n",
       "      <th>episodes</th>\n",
       "      <th>rating</th>\n",
       "      <th>members</th>\n",
       "    </tr>\n",
       "  </thead>\n",
       "  <tbody>\n",
       "    <tr>\n",
       "      <th>0</th>\n",
       "      <td>32281</td>\n",
       "      <td>Kimi no Na wa.</td>\n",
       "      <td>Drama, Romance, School, Supernatural</td>\n",
       "      <td>Movie</td>\n",
       "      <td>1</td>\n",
       "      <td>9.37</td>\n",
       "      <td>200630</td>\n",
       "    </tr>\n",
       "    <tr>\n",
       "      <th>1</th>\n",
       "      <td>5114</td>\n",
       "      <td>Fullmetal Alchemist: Brotherhood</td>\n",
       "      <td>Action, Adventure, Drama, Fantasy, Magic, Mili...</td>\n",
       "      <td>TV</td>\n",
       "      <td>64</td>\n",
       "      <td>9.26</td>\n",
       "      <td>793665</td>\n",
       "    </tr>\n",
       "    <tr>\n",
       "      <th>2</th>\n",
       "      <td>28977</td>\n",
       "      <td>Gintama°</td>\n",
       "      <td>Action, Comedy, Historical, Parody, Samurai, S...</td>\n",
       "      <td>TV</td>\n",
       "      <td>51</td>\n",
       "      <td>9.25</td>\n",
       "      <td>114262</td>\n",
       "    </tr>\n",
       "    <tr>\n",
       "      <th>3</th>\n",
       "      <td>9253</td>\n",
       "      <td>Steins;Gate</td>\n",
       "      <td>Sci-Fi, Thriller</td>\n",
       "      <td>TV</td>\n",
       "      <td>24</td>\n",
       "      <td>9.17</td>\n",
       "      <td>673572</td>\n",
       "    </tr>\n",
       "    <tr>\n",
       "      <th>4</th>\n",
       "      <td>9969</td>\n",
       "      <td>Gintama&amp;#039;</td>\n",
       "      <td>Action, Comedy, Historical, Parody, Samurai, S...</td>\n",
       "      <td>TV</td>\n",
       "      <td>51</td>\n",
       "      <td>9.16</td>\n",
       "      <td>151266</td>\n",
       "    </tr>\n",
       "  </tbody>\n",
       "</table>\n",
       "</div>"
      ],
      "text/plain": [
       "   anime_id                              name  \\\n",
       "0     32281                    Kimi no Na wa.   \n",
       "1      5114  Fullmetal Alchemist: Brotherhood   \n",
       "2     28977                          Gintama°   \n",
       "3      9253                       Steins;Gate   \n",
       "4      9969                     Gintama&#039;   \n",
       "\n",
       "                                               genre   type episodes  rating  \\\n",
       "0               Drama, Romance, School, Supernatural  Movie        1    9.37   \n",
       "1  Action, Adventure, Drama, Fantasy, Magic, Mili...     TV       64    9.26   \n",
       "2  Action, Comedy, Historical, Parody, Samurai, S...     TV       51    9.25   \n",
       "3                                   Sci-Fi, Thriller     TV       24    9.17   \n",
       "4  Action, Comedy, Historical, Parody, Samurai, S...     TV       51    9.16   \n",
       "\n",
       "   members  \n",
       "0   200630  \n",
       "1   793665  \n",
       "2   114262  \n",
       "3   673572  \n",
       "4   151266  "
      ]
     },
     "execution_count": 2,
     "metadata": {},
     "output_type": "execute_result"
    }
   ],
   "source": [
    "import kagglehub\n",
    "path = kagglehub.dataset_download(\"CooperUnion/anime-recommendations-database\")\n",
    "print(\"Path to dataset files:\", path)\n",
    "file_path = f\"{path}/anime.csv\"\n",
    "df_anime = pd.read_csv(file_path)\n",
    "df_anime.head()"
   ]
  },
  {
   "cell_type": "markdown",
   "metadata": {},
   "source": [
    "menghapus nilai nan"
   ]
  },
  {
   "cell_type": "code",
   "execution_count": 3,
   "metadata": {},
   "outputs": [],
   "source": [
    "df_anime['genre'] = df_anime['genre'].fillna('')"
   ]
  },
  {
   "cell_type": "markdown",
   "metadata": {},
   "source": [
    "Encode di kolom genre"
   ]
  },
  {
   "cell_type": "code",
   "execution_count": 4,
   "metadata": {},
   "outputs": [],
   "source": [
    "model = SentenceTransformer('all-MiniLM-L6-v2')\n",
    "genre_embeddings = model.encode(df_anime['genre'].tolist(), convert_to_tensor=True)"
   ]
  },
  {
   "cell_type": "code",
   "execution_count": 11,
   "metadata": {},
   "outputs": [
    {
     "data": {
      "text/plain": [
       "tensor([[ 0.0279, -0.1049,  0.0457,  ..., -0.0214,  0.0039,  0.0108],\n",
       "        [ 0.0158, -0.0546, -0.0091,  ..., -0.0429, -0.0500,  0.0712],\n",
       "        [-0.0754, -0.1026, -0.0215,  ..., -0.0219,  0.0050,  0.0343],\n",
       "        ...,\n",
       "        [-0.0443, -0.0638,  0.0439,  ...,  0.0337,  0.0472, -0.0632],\n",
       "        [-0.0443, -0.0638,  0.0439,  ...,  0.0337,  0.0472, -0.0632],\n",
       "        [-0.0443, -0.0638,  0.0439,  ...,  0.0337,  0.0472, -0.0632]])"
      ]
     },
     "execution_count": 11,
     "metadata": {},
     "output_type": "execute_result"
    }
   ],
   "source": [
    "genre_embeddings"
   ]
  },
  {
   "cell_type": "code",
   "execution_count": 5,
   "metadata": {},
   "outputs": [],
   "source": [
    "similarity_matrix = cosine_similarity(genre_embeddings.cpu().numpy())"
   ]
  },
  {
   "cell_type": "code",
   "execution_count": 6,
   "metadata": {},
   "outputs": [],
   "source": [
    "def recommend_anime(anime_name, df_anime, similarity_matrix, top_n=5):\n",
    "    index = df_anime[df_anime['name'] == anime_name].index\n",
    "    if len(index) == 0:\n",
    "        return f\"Anime '{anime_name}' tidak ditemukan.\"\n",
    "    \n",
    "    index = index[0]\n",
    "\n",
    "    sim_scores = list(enumerate(similarity_matrix[index]))\n",
    "    sim_scores = sorted(sim_scores, key=lambda x: x[1], reverse=True)\n",
    "    sim_scores = sim_scores[1:top_n+1] \n",
    "    \n",
    "    return df_anime.iloc[[i[0] for i in sim_scores]][['name', 'genre']]\n"
   ]
  },
  {
   "cell_type": "code",
   "execution_count": 15,
   "metadata": {},
   "outputs": [
    {
     "data": {
      "text/html": [
       "<div>\n",
       "<style scoped>\n",
       "    .dataframe tbody tr th:only-of-type {\n",
       "        vertical-align: middle;\n",
       "    }\n",
       "\n",
       "    .dataframe tbody tr th {\n",
       "        vertical-align: top;\n",
       "    }\n",
       "\n",
       "    .dataframe thead th {\n",
       "        text-align: right;\n",
       "    }\n",
       "</style>\n",
       "<table border=\"1\" class=\"dataframe\">\n",
       "  <thead>\n",
       "    <tr style=\"text-align: right;\">\n",
       "      <th></th>\n",
       "      <th>name</th>\n",
       "      <th>genre</th>\n",
       "    </tr>\n",
       "  </thead>\n",
       "  <tbody>\n",
       "    <tr>\n",
       "      <th>59</th>\n",
       "      <td>Steins;Gate Movie: Fuka Ryouiki no Déjà vu</td>\n",
       "      <td>Sci-Fi, Thriller</td>\n",
       "    </tr>\n",
       "    <tr>\n",
       "      <th>126</th>\n",
       "      <td>Steins;Gate: Oukoubakko no Poriomania</td>\n",
       "      <td>Sci-Fi, Thriller</td>\n",
       "    </tr>\n",
       "    <tr>\n",
       "      <th>196</th>\n",
       "      <td>Steins;Gate: Kyoukaimenjou no Missing Link - D...</td>\n",
       "      <td>Sci-Fi, Thriller</td>\n",
       "    </tr>\n",
       "    <tr>\n",
       "      <th>10898</th>\n",
       "      <td>Steins;Gate 0</td>\n",
       "      <td>Sci-Fi, Thriller</td>\n",
       "    </tr>\n",
       "    <tr>\n",
       "      <th>5525</th>\n",
       "      <td>Loups=Garous</td>\n",
       "      <td>Mystery, Sci-Fi, Thriller</td>\n",
       "    </tr>\n",
       "  </tbody>\n",
       "</table>\n",
       "</div>"
      ],
      "text/plain": [
       "                                                    name  \\\n",
       "59            Steins;Gate Movie: Fuka Ryouiki no Déjà vu   \n",
       "126                Steins;Gate: Oukoubakko no Poriomania   \n",
       "196    Steins;Gate: Kyoukaimenjou no Missing Link - D...   \n",
       "10898                                      Steins;Gate 0   \n",
       "5525                                        Loups=Garous   \n",
       "\n",
       "                           genre  \n",
       "59              Sci-Fi, Thriller  \n",
       "126             Sci-Fi, Thriller  \n",
       "196             Sci-Fi, Thriller  \n",
       "10898           Sci-Fi, Thriller  \n",
       "5525   Mystery, Sci-Fi, Thriller  "
      ]
     },
     "execution_count": 15,
     "metadata": {},
     "output_type": "execute_result"
    }
   ],
   "source": [
    "recommend_anime(\"Steins;Gate\", df_anime, similarity_matrix)"
   ]
  },
  {
   "cell_type": "code",
   "execution_count": 16,
   "metadata": {},
   "outputs": [],
   "source": [
    "from langchain.chat_models import ChatOpenAI\n",
    "from langchain.prompts import PromptTemplate\n",
    "\n",
    "llm = ChatOpenAI(temperature=0.3, model_name=\"gpt-4\")\n",
    "\n",
    "def explain_recommendation(anime_name, df_anime, similarity_matrix, top_n=5):\n",
    "    top_df = recommend_anime(anime_name, df_anime, similarity_matrix, top_n)\n",
    "    if isinstance(top_df, str):\n",
    "        return top_df \n",
    "\n",
    "    rekomendasi_teks = \"\\n\".join([\n",
    "        f\"{row['name']} (Genre: {row['genre']})\"\n",
    "        for _, row in top_df.iterrows()\n",
    "    ])\n",
    "\n",
    "    # Buat prompt untuk LLM\n",
    "    prompt = f\"\"\"\n",
    "Kamu adalah ahli anime.\n",
    "\n",
    "User menyukai anime berjudul: \"{anime_name}\".\n",
    "\n",
    "Berikut adalah beberapa anime lain yang mirip secara genre dan gaya:\n",
    "\n",
    "{rekomendasi_teks}\n",
    "\n",
    "🎯 Jelaskan secara singkat kenapa anime-anime ini cocok direkomendasikan untuk penggemar \"{anime_name}\".\n",
    "\"\"\"\n",
    "    # Panggil LLM\n",
    "    response = llm.invoke(prompt)\n",
    "    return response.content\n"
   ]
  },
  {
   "cell_type": "code",
   "execution_count": 18,
   "metadata": {},
   "outputs": [
    {
     "name": "stdout",
     "output_type": "stream",
     "text": [
      "Anime-anime ini cocok direkomendasikan untuk penggemar \"Steins;Gate\" karena mereka memiliki genre dan gaya yang sama. \n",
      "\n",
      "Steins;Gate Movie: Fuka Ryouiki no Déjà vu, Steins;Gate: Oukoubakko no Poriomania, dan Steins;Gate: Kyoukaimenjou no Missing Link - Divide By Zero adalah bagian dari seri Steins;Gate, jadi mereka pasti akan menarik bagi penggemar anime aslinya. Mereka semua memiliki elemen sci-fi dan thriller yang sama yang membuat Steins;Gate begitu menarik, termasuk teori konspirasi, perjalanan waktu, dan misteri ilmiah.\n",
      "\n",
      "Steins;Gate 0 adalah prekuel dari Steins;Gate dan memberikan lebih banyak konteks dan latar belakang untuk cerita dan karakter-karakternya. Jadi, jika penggemar Steins;Gate ingin mendalami lebih jauh dunia dan karakter yang mereka sukai, ini adalah pilihan yang bagus.\n",
      "\n",
      "Loups=Garous juga adalah anime dengan genre Mystery, Sci-Fi, dan Thriller. Meskipun bukan bagian dari seri Steins;Gate, gaya dan tema yang sama dapat menarik bagi penggemar Steins;Gate. Anime ini berfokus pada misteri dan konspirasi dalam masyarakat dystopian, yang mirip dengan beberapa tema yang ada dalam Steins;Gate.\n"
     ]
    }
   ],
   "source": [
    "print(explain_recommendation(\"Steins;Gate\", df_anime, similarity_matrix))"
   ]
  }
 ],
 "metadata": {
  "kernelspec": {
   "display_name": "base",
   "language": "python",
   "name": "python3"
  },
  "language_info": {
   "codemirror_mode": {
    "name": "ipython",
    "version": 3
   },
   "file_extension": ".py",
   "mimetype": "text/x-python",
   "name": "python",
   "nbconvert_exporter": "python",
   "pygments_lexer": "ipython3",
   "version": "3.12.3"
  }
 },
 "nbformat": 4,
 "nbformat_minor": 2
}
